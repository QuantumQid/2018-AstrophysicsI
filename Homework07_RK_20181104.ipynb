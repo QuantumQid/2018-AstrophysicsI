{
 "cells": [
  {
   "cell_type": "markdown",
   "metadata": {},
   "source": [
    "## Rand Kelly\n",
    "## AST 713\n",
    "## Homework 07; 20181104"
   ]
  },
  {
   "cell_type": "markdown",
   "metadata": {},
   "source": [
    "### Chapter 6 Problem 1"
   ]
  },
  {
   "cell_type": "markdown",
   "metadata": {},
   "source": [
    "### a)\n",
    "We know the following relation\n",
    "### $ \\cos i = \\frac{br_{\\star}}{a} $\n",
    "From here we know that one leg of the right triangle is $br_{\\star}$. When the planet begins to transit, the hypotenuse of the right triangle then becomes $ r_{\\star} + r_{planet} $. We then use Pythagoras' Theorem to solve for the other leg of the right traingle.\n",
    "### $ d^2 = (r_{\\star} + r_{planet})^2 - (br_{\\star})^2 $\n",
    "### $ d = \\sqrt{(r_{\\star} + r_{planet})^2 - (br_{\\star})^2} $\n",
    "We can assume that in most cases however that $ r_{\\star} >> r_{planet} $ thus the above equation becomes\n",
    "### $ d = \\sqrt{(r_{\\star} + r_{planet})^2 - (br_{\\star})^2} \\sim \\sqrt{(r_{\\star})^2 - (br_{\\star})^2}$\n",
    "### $ d =r_{\\star}\\sqrt{1-b^2} $\n",
    "IOn order to determine the transit duration, we need to know the velocity and the distance of transit. The velocity is just the orbital velocity:\n",
    "### $ v = \\frac{2\\pi a}{\\tau} $\n",
    "The dstance is twice the distance of the other leg of the right triangle we just calculated above:\n",
    "### $ d_t = 2\\times d = 2r_{\\star}\\sqrt{1-b^2}$\n",
    "Therefore the transit duration, $t_{dur}$ is:\n",
    "### $ t_{dur} = \\frac{d_r}{v} = \\frac{2r_{\\star}\\sqrt{1-b^2}}{\\frac{2\\pi a}{\\tau}} $\n",
    "### $\\implies t_{dur} = \\frac{\\tau r_{\\star}\\sqrt{1-b^2}}{{\\pi a}} $"
   ]
  },
  {
   "cell_type": "markdown",
   "metadata": {},
   "source": [
    "### b)\n",
    "The probablility of a transit can be determined by dividing the solid angle by $4\\pi$:\n",
    "### $ P_{tran} = \\frac{\\Omega}{4\\pi}$\n",
    "The solid angle for the range of the equator and the limb's graze is:\n",
    "### $ d\\Omega_{range} = \\sin \\theta d\\theta d\\phi $\n",
    "### $ d\\Omega_{range} = 2\\pi \\sin \\theta d\\theta  $\n",
    "### $\\Omega{range} = 2\\pi \\cos \\theta $\n",
    "Geometrically it is easy to see that \n",
    "### $\\cos \\theta = \\frac{{r_\\star} + r_{planet}}{a} $\n",
    "Therfore the solid angle for the transits between the equator and the limb grazes is:\n",
    "### $\\Omega_{range} = \\frac{2\\pi({r_\\star} + r_{planet})}{a} $\n",
    "We need to multiply this by 2 to make sure we include the whole face of the star. Thus we get for the full solid angle:\n",
    "### $\\Omega = \\frac{4\\pi({r_\\star} + r_{planet})}{a} $\n",
    "Pluggin this into the above equation for the probablility of transits and we getL\n",
    "### $ P_{tran} = \\frac{\\Omega}{4\\pi} = \\frac{\\frac{4\\pi({r_\\star} + r_{planet})}{a}}{4\\pi}$\n",
    "### $ \\implies P_{tran} =\\frac{({r_\\star} + r_{planet})}{a} $"
   ]
  },
  {
   "cell_type": "markdown",
   "metadata": {},
   "source": [
    "### c)\n",
    "Looking at the top of Figure 6.2, I estimate the orbital period to be\n",
    "### $ \\tau = \\frac{19days}{4} = 4.75 days $\n",
    "Looking at the transit depth, I am taking my estimate from the middle of the baseline to the middle of the bottom part of the dip:\n",
    "### $ \\frac{\\Delta f}{f} = 5.0 \\times \\frac{0.0002}{4} = 5.0 \\times (5\\times10^{-5}) = 2.5\\times10^{-4} $\n",
    "The transit duration can be estimated by determing the width of the phase and multiplying this by the orbital period:\n",
    "### $t_{dur} = (4.75days)\\times (.515-.485) = 0.1425days $\n",
    "The radius of the planet can now be found by rearranging Equation [6.6] as follows:\n",
    "### $ r_p = r_{\\star} \\sqrt{\\frac{\\Delta f}{f}} = (0.92r_{\\odot}) \\times \\sqrt{(2.5\\times10^{-4})} = (0.92\\times (7.0\\times10^{10}cm)) \\times \\sqrt{(2.5\\times10^{-4})} = 1.0\\times10^9cm \\frac{1}{6.4\\times10^8}$\n",
    "### $\\implies r_p = 1.59 r_{\\oplus} $\n",
    "Using Kepler's law:\n",
    "### $ a = \\big(\\frac{\\tau^2 GM_{\\odot}}{4\\pi^2}\\big)^{\\frac{1}{3}} = 8.0\\times10^{11}cm = 0.053AU$\n",
    "From part a) the impact paramter is\n",
    "### $ b = \\sqrt{(1-(\\frac{\\pi a t_{dur}}{r_{\\star}\\tau})^2)} = 0.2$\n",
    "### $ \\theta = \\arccos{\\frac{br_{\\star}}{a}} $\n",
    "### $\\implies \\theta = 89.1^{\\circ} $\n",
    "### $ M_p\\sin{i} \\approx (\\frac{\\tau}{2\\pi G})^{1/3} \\times (v_{1,obs})\\times M_1^{2/3} $\n",
    "### $ \\implies M_p \\approx 2.32\\times10^{28}g = 4M_{\\oplus} $\n",
    "### $\\rho = \\frac{M}{V} = \\frac{2.32\\times10^{28}g}{\\frac{4}{3}\\pi (1.0\\times10^9)^3 }$\n",
    "### $\\implies \\rho = 5.54g/cm^{-3}$\n",
    "### $ T_p = T_1(1-.3) \\times 2^{-1/2}(\\frac{r_{\\star}}{a})^{1/2} $\n",
    "### $\\implies T_p = 1000K $"
   ]
  },
  {
   "cell_type": "markdown",
   "metadata": {},
   "source": [
    "### Chapter 6 Problem 3"
   ]
  },
  {
   "cell_type": "markdown",
   "metadata": {},
   "source": [
    "### $\\theta_E = (\\frac{4GM}{c^2}\\frac{D_{1s}}{D_{o1}D_{os}})^{1/2} $\n",
    "### $D_{1s} = d $\n",
    "### $D_{o1} = d $\n",
    "### $D_{os} = 2d $\n",
    "### $\\theta_E = \\frac{r_{\\star}}{d} = (\\frac{2GM}{dc^2})^{1/2}$\n",
    "Rearranging for d and solving we get\n",
    "### $d = \\frac{c^2r_{\\star}^2}{2GM} = 1.5\\times10^{16}cm = 0.0052pc $"
   ]
  },
  {
   "cell_type": "code",
   "execution_count": null,
   "metadata": {},
   "outputs": [],
   "source": []
  }
 ],
 "metadata": {
  "kernelspec": {
   "display_name": "Python 3",
   "language": "python",
   "name": "python3"
  },
  "language_info": {
   "codemirror_mode": {
    "name": "ipython",
    "version": 3
   },
   "file_extension": ".py",
   "mimetype": "text/x-python",
   "name": "python",
   "nbconvert_exporter": "python",
   "pygments_lexer": "ipython3",
   "version": "3.6.5"
  }
 },
 "nbformat": 4,
 "nbformat_minor": 2
}
