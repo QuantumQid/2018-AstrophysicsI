{
 "cells": [
  {
   "cell_type": "markdown",
   "metadata": {},
   "source": [
    "## Rand Kelly\n",
    "## AST 713\n",
    "## Homework 05; 20181014"
   ]
  },
  {
   "cell_type": "markdown",
   "metadata": {},
   "source": [
    "### Chapter 4 Problem 5"
   ]
  },
  {
   "cell_type": "markdown",
   "metadata": {},
   "source": [
    "### a) \n",
    "We know from Equation [4.101] that\n",
    "### $ \\frac{dE_{rot}}{dt} = I\\omega \\frac{d\\omega}{dt} $"
   ]
  },
  {
   "cell_type": "markdown",
   "metadata": {},
   "source": [
    "In order for \n",
    "### $ \\frac{dE_{rot}}{dt}\\propto \\omega^6$\n",
    "we set\n",
    "### $ \\frac{d\\omega}{dt} = C\\omega^5 $\n",
    "so that\n",
    "### $\\frac{dE_{rot}}{dt} = I\\omega \\frac{d\\omega}{dt} = \\omega^6 $\n",
    "Separating variables and integrating\n",
    "### $ \\frac{d\\omega}{dt} = C\\omega^5 $\n",
    "yields\n",
    "## $ \\implies t = \\big(\\frac{\\omega_o^5}{4\\dot{\\omega}_o}\\big) \\big(\\frac{1}{\\omega^4} - \\frac{1}{\\omega_i^4}\\big) $"
   ]
  },
  {
   "cell_type": "markdown",
   "metadata": {},
   "source": [
    "### b) \n",
    "In order to take the upper age of the pulsar we let\n",
    "### $ \\omega = \\omega_o$ \n",
    "### $ \\omega_i = \\infty $\n",
    "and from from Equations [4.86] and [4.88] from the book we have\n",
    "### $\\omega = 190 s^{-1} $\n",
    "### $\\frac{d\\omega}{dt} = 2.4 \\times 10^{-9} s^{-2} $\n",
    "Pluggin in all the values we get the upper limit to the age of the Crab pulsar:\n",
    "### $ t = \\big(\\frac{\\omega_o^5}{4\\dot{\\omega}_o}\\big) \\big(\\frac{1}{\\omega^4} - \\frac{1}{\\omega_i^4}\\big) = \\big(\\frac{\\omega_o^5}{4\\dot{\\omega}_o}\\big) \\big(\\frac{1}{\\omega_o^4} - \\frac{1}{\\infty^4}\\big) = \\big(\\frac{\\omega_o^5}{4\\dot{\\omega}_o}\\big) \\big(\\frac{1}{\\omega_o^4}\\big) = \\big(\\frac{\\omega_o}{4\\dot{\\omega}_o}\\big) = \\big(\\frac{190s^{-1}}{4(2.4 \\times 10^{-9}s^{-2})}\\big) = 1.98 \\times 10^{10} s$\n",
    "### $ \\implies \\sim 628 years $\n",
    "Since the age of the Crab nebulae from historical records is 964 years old, which is several hundreds of years older than the upper limit just calculated, gravitational waves cannot be the reason why there is rotational energy loss of the Crab pulsar. "
   ]
  },
  {
   "cell_type": "markdown",
   "metadata": {},
   "source": [
    "## Chapter 5 Problem 2\n",
    "\n",
    "### a) \n",
    "I will begin by starting with the initial mass function, rearranging the equation, and then integrating it over the range of different masses in the galaxy, $M_a$ to $M_b$, we get:\n",
    "### $\\frac{dN}{dM} \\propto M^{-2.35} $\n",
    "### $ \\int dN \\propto \\int_a^b M^{-2.35}dM $\n",
    "### $ N \\propto \\frac{(M_b^{-1.35}-M_a^{-1.35})}{-1.35} $\n",
    "The fraction of starts formed with mass above $8M_{\\odot}$ is\n",
    "### $\\frac{N_{>8M_{\\odot}}}{N_{TOT}} = \\frac{(-1.35)[(100M_{\\odot})^{-1.35}-(8M_{\\odot})^{-1.35}]}{(-1.35)[(100M_{\\odot})^{-1.35}-(0.4M_{\\odot})^{-1.35}]} = \\frac{100^{-1.35} - 8^{-1.35}}{100^{-1.35} - 0.4^{-1.35}} = 0.016953724$\n",
    "### $ \\implies \\frac{N_{>8M_{\\odot}}}{N_{TOT}} = 0.017 $\n",
    "In order to find out how many neutron stars and black holes there are, we multiply the total number of stars in the Milky Way by the fraction of stars above $8M_{\\odot}$\n",
    "### $ \\implies (0.017)\\times(10^{11}stars) = 1.7\\times10^9 $ Neutron stars and black holes in the Milky Way Galaxy.\n",
    "In order to determine how much mass there is in the remnants, we will multiply the number of neutron stars and black holes by a typical remnant mass of $\\sim 1.4M_{\\odot}$ which leads to\n",
    "### $ \\implies (1.7\\times10^9stars)\\times(1.4\\times2.0\\times10^{33}g) = 4.76\\times10^{42}g $ or $2.38\\times10^9M_{\\odot}$"
   ]
  },
  {
   "cell_type": "markdown",
   "metadata": {},
   "source": [
    "### b) \n",
    "In order to find the mean interstellar mass abundance of iron in the galaxy, we multiply the number of remnants in the galaxy that will undergo stellar core collaps by $ 0.05M_{\\odot}$ and divide that by the mass of the gas in the glaxy to get:\n",
    "### $ M_{Fe} = \\frac{(1.7\\times10^9remnants)(0.05M_{\\odot})}{5\\times10^{10}M_{\\odot}} $\n",
    "### $ \\implies M_{Fe} = 0.0017 $\n",
    "Which is in very close agreement to \n",
    "### $ Z_{Fe,\\odot} = 0.00177$\n",
    "Since our Sun is not old enough to have synthesized the abundance of Fe that is in the Sun to this day, and since only heavier elements can be created during stellar core collapses or supernovas, the Sun must have acquired the iron it currently has from the proto-material of the gas cloud that was created by other stars, thus making it a \"second-generation\" star."
   ]
  },
  {
   "cell_type": "markdown",
   "metadata": {},
   "source": [
    "### c)\n",
    "We first determine how many pairs of binaries there are in the Milky Way Galaxy;\n",
    "### $ (10^{11} stars)\\times(0.5binaries)\\times(0.5pairs) = 25\\times10^9 $ Pairs of binary stars\n",
    "Next we multiply the pairs of binary stars by the square of the probablility of a neutron star becasue they are two separate events and we want to find the one in which BOTH binary stars are neutron stars, we get:\n",
    "### $ \\implies (25\\times10^9)\\times(0.017)^2 = 7.2\\times10^6 $ Pairs of binary-neutron-star-systems"
   ]
  },
  {
   "cell_type": "markdown",
   "metadata": {},
   "source": [
    "### d)\n",
    "The gravitational binding energy is\n",
    "### $ E_{gr} = \\frac{GM_1M_2}{r} $\n",
    "and the kinetic energy of two stars are\n",
    "### $ E_k = \\frac{1}{2}M_3v_k^2 + \\frac{1}{2}M_4v_k^2 $\n",
    "Equating these two we get:\n",
    "### $ \\frac{GM_1M_2}{r} = \\frac{1}{2}M_3v_k^2 + \\frac{1}{2}M_4v_k^2 $\n",
    "Given that $M_1 = M_2 = 8M_{\\odot} $ and that $M_3 = M_4 = 1.4M_{\\odot} $ we get:\n",
    "### $ \\frac{G(8M_{\\odot})(8M_{\\odot})}{r} = \\frac{1}{2}(1.4M_{\\odot})v_k^2 + \\frac{1}{2}(1.4M_{\\odot})v_k^2 $\n",
    "### $ \\frac{64GM_{\\odot}^2}{r} = (1.4M_{\\odot})v_k^2 $\n",
    "Rearranging this to solve for r we get:\n",
    "### $ r = \\frac{64GM_{\\odot}}{1.4v_k^2} = \\frac{64\\times(6.7\\times10^{-8}erg\\bullet cm\\bullet g^{-2})\\times(2.0\\times10^{33}g)}{1.4(500\\times10^5cm/s)^2} = 2.45\\times10^{12}cm\\times\\frac{1pc}{3.1\\times10^{18}cm}$\n",
    "### $ \\implies r = 7.9\\times10^{-7}pc $"
   ]
  },
  {
   "cell_type": "markdown",
   "metadata": {},
   "source": [
    "### e)\n",
    "We need to find the ratio of binaries with less than the maximal initial separation which is:\n",
    "### $ \\frac{7.9\\times10^{-7}pc}{0.01pc} = 7.9\\times10^{-5} $\n",
    "Then we multiply this by the number of neutron-star binaries from above and we get:\n",
    "### $ (7.9\\times10^{-})\\times(7.2\\times10^6) = 568.8 $\n",
    "### $\\implies 568 $ remnant neutron-star binaries, which is $ \\sim 600$"
   ]
  },
  {
   "cell_type": "markdown",
   "metadata": {},
   "source": []
  }
 ],
 "metadata": {
  "kernelspec": {
   "display_name": "Python 3",
   "language": "python",
   "name": "python3"
  },
  "language_info": {
   "codemirror_mode": {
    "name": "ipython",
    "version": 3
   },
   "file_extension": ".py",
   "mimetype": "text/x-python",
   "name": "python",
   "nbconvert_exporter": "python",
   "pygments_lexer": "ipython3",
   "version": "3.6.5"
  }
 },
 "nbformat": 4,
 "nbformat_minor": 2
}
