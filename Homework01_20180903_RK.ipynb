{
 "cells": [
  {
   "cell_type": "markdown",
   "metadata": {},
   "source": [
    "Chapter 1 Problem 2"
   ]
  },
  {
   "cell_type": "markdown",
   "metadata": {},
   "source": [
    "A CCD detector at the focal plane of a 1-m-diameter telescope records the image of a certain star. Due to the blurring effect of the atmosphere (this is called the \"seeing\" by astronomers) the light from the star is spread over a circular area of radius R pixels. The total number of photoelectrons over the area, accumulated during the exposure, and due to the light of the stars, is $N_s$. Light from the sky prduces $n_s$ photoelectrons per pixel in the same exposure."
   ]
  },
  {
   "cell_type": "markdown",
   "metadata": {},
   "source": [
    "a.) Calculate the signal-to-noise ratio (S/N) of the photometric measurement of the star, i.e., the ratio of the counts from the star to the uncertainty in this measurement. Assume Poisson statistics, i.e., that the \"noise\" is the square root of the total counts, from all sources."
   ]
  },
  {
   "cell_type": "markdown",
   "metadata": {},
   "source": [
    "The Signal (S) is the light from the star; $N_s$."
   ]
  },
  {
   "cell_type": "markdown",
   "metadata": {},
   "source": [
    "The total amount of photoelectrons from the sky is: $n_s\\pi R^2$"
   ]
  },
  {
   "cell_type": "markdown",
   "metadata": {},
   "source": [
    "Thus the signal to noise ratio (S/N) is:  $\\frac{N_s}{ \\sqrt{[n_s\\pi R^2] + N_s}}$"
   ]
  },
  {
   "cell_type": "markdown",
   "metadata": {},
   "source": [
    "b.) The same star is observed with the same exposure time, but with a 10-m-diameter telescope. This larger telescope naturally has a larger light gathering area, but also is at a site with a more stable atmosphere, and therefor has 3 times better \"seeing\" (i.e., the light from the stars is spread over an area of radius $\\frac{R}{3}$). Find the S/N in this case."
   ]
  },
  {
   "cell_type": "markdown",
   "metadata": {},
   "source": [
    "The total number of photoelectron counts is proportional to the light gathering area thus: $N_s$ becomes $100N_s$ since it is now a 10m diameter telescope."
   ]
  },
  {
   "cell_type": "markdown",
   "metadata": {},
   "source": [
    "The better \"seeing\" on the CCD now has a size of $\\frac{ \\pi R^2}{9}$."
   ]
  },
  {
   "cell_type": "markdown",
   "metadata": {},
   "source": [
    "Therefore the new S/N is: $\\frac{100N_s}{ \\sqrt{[n_s\\pi R^2/9] + 100N_s}}$"
   ]
  },
  {
   "cell_type": "markdown",
   "metadata": {},
   "source": [
    "c.) Assuming that the star and the sky are not variable (i.e., photons arrive from them at a constant rate), find the functional dependence of S/N on exposure time, t, in two limiting cases: the counts from the star are much greater than the counts from the sky in the \"seeing disk\" (this is called the \"source-limited\" case); and vice versa (called the \"background-limited\" case).\n",
    "Answer: S/N is approximately $\\sqrt{t}$ in both cases."
   ]
  },
  {
   "cell_type": "markdown",
   "metadata": {},
   "source": [
    "$ N_s=R_st$ where $R_s$ is the number of photoelectron counts per unit time and $t$ is time."
   ]
  },
  {
   "cell_type": "markdown",
   "metadata": {},
   "source": [
    "$n_s=r_st$ where $r_s$ is the number of counts per pixel per unit time."
   ]
  },
  {
   "cell_type": "markdown",
   "metadata": {},
   "source": [
    "Therefore we can represent the signal to noise ratio (S/N) as $\\frac{R_st }{ \\sqrt{[r_st\\pi R^2] + R_st}}$."
   ]
  },
  {
   "cell_type": "markdown",
   "metadata": {},
   "source": [
    "This then simplifies to $\\frac {R_s\\sqrt{t}}{ \\sqrt{[r_s\\pi R^2] + R_s}}$."
   ]
  },
  {
   "cell_type": "markdown",
   "metadata": {},
   "source": [
    "If you then take the \"source-limited\" case, you are left with the following: $\\frac {R_s\\sqrt{t}}{\\sqrt{R_s}}$ which reduces to $\\sqrt{R_s}\\sqrt{t}$."
   ]
  },
  {
   "cell_type": "markdown",
   "metadata": {},
   "source": [
    "If you take the \"background-limited\" case, you are left with: $\\frac {R_s\\sqrt{t}}{ \\sqrt{[r_s\\pi R^2]}}$."
   ]
  },
  {
   "cell_type": "markdown",
   "metadata": {},
   "source": [
    "In both cases, the functional dependence of S/N on exposure time is by $\\sqrt{t}$."
   ]
  },
  {
   "cell_type": "markdown",
   "metadata": {},
   "source": [
    "d.) Based on the results of (c), by what factor does the exposure time with the 1-m telescope need to be increased to reach the S/N obtained with the 10-m telescope, for each of the two limiting cases?\n",
    "Answer: By a factor 100 in the first case, and 1000 in the second case."
   ]
  },
  {
   "cell_type": "markdown",
   "metadata": {},
   "source": [
    "First, I will show the $\\frac{S}{N}$ ratios for the 1m diameter case and the 10m diameter case respectfully."
   ]
  },
  {
   "cell_type": "markdown",
   "metadata": {},
   "source": [
    "$[\\frac{S}{N}]_1 = \\frac {R_s\\sqrt{t_1}}{ \\sqrt{[r_s\\pi R_1^2] + R_s}}$"
   ]
  },
  {
   "cell_type": "markdown",
   "metadata": {},
   "source": [
    "$[\\frac{S}{N}]_{10} = \\frac{100R_s\\sqrt{t_{10}} }{ \\sqrt{\\frac{r_s\\pi R_{10}^2}{9} + 100R_s}}$"
   ]
  },
  {
   "cell_type": "markdown",
   "metadata": {},
   "source": [
    "We then set both of these equal to each other and solve for $t_1$ as a function of $t_{10}$."
   ]
  },
  {
   "cell_type": "markdown",
   "metadata": {},
   "source": [
    "$[\\frac{S}{N}]_1 = [\\frac{S}{N}]_{10}$"
   ]
  },
  {
   "cell_type": "markdown",
   "metadata": {},
   "source": [
    "$\\frac {R_s\\sqrt{t_1}}{ \\sqrt{[r_s\\pi R_1^2] + R_s}} = \\frac{100R_s\\sqrt{t_{10}} }{ \\sqrt{\\frac{r_s\\pi R_{10}^2}{9} + 100R_s}}$"
   ]
  },
  {
   "cell_type": "markdown",
   "metadata": {},
   "source": [
    "${t_1} = \\frac{({[r_s\\pi R_1^2] + R_s})10000{t_{10}} }{ {\\frac{r_s\\pi R_{10}^2}{9} + 100R_s}}$"
   ]
  },
  {
   "cell_type": "markdown",
   "metadata": {},
   "source": [
    "Now in the \"source-limited\" case we get:"
   ]
  },
  {
   "cell_type": "markdown",
   "metadata": {},
   "source": [
    "${t_1} = \\frac{R_s10000t_{10}}{100R_s}$"
   ]
  },
  {
   "cell_type": "markdown",
   "metadata": {},
   "source": [
    "Which then reduces to ${t_1} = 100t_{10}$."
   ]
  },
  {
   "cell_type": "markdown",
   "metadata": {},
   "source": [
    "In the \"background-limited\" case we get:"
   ]
  },
  {
   "cell_type": "markdown",
   "metadata": {},
   "source": [
    "${t_1} = \\frac{({[r_s\\pi R_1^2]})10000{t_{10}} }{ {[r_s\\pi R_{10}^2/9]}}$"
   ]
  },
  {
   "cell_type": "markdown",
   "metadata": {},
   "source": [
    "With $R_1=0.5m$ and $R_{10}=5.0m$ we then get: $t_1 = \\frac{(.25)10000t_{10}}{25/9}$"
   ]
  },
  {
   "cell_type": "markdown",
   "metadata": {},
   "source": [
    "Which then reduces to ${t_1} = 900t_{10}$."
   ]
  },
  {
   "cell_type": "markdown",
   "metadata": {},
   "source": [
    "Thus my answer is that in the first case, the factor is by 100 and in the second case by 900. I seem to be off by 100."
   ]
  }
 ],
 "metadata": {
  "kernelspec": {
   "display_name": "Python 3",
   "language": "python",
   "name": "python3"
  },
  "language_info": {
   "codemirror_mode": {
    "name": "ipython",
    "version": 3
   },
   "file_extension": ".py",
   "mimetype": "text/x-python",
   "name": "python",
   "nbconvert_exporter": "python",
   "pygments_lexer": "ipython3",
   "version": "3.6.5"
  }
 },
 "nbformat": 4,
 "nbformat_minor": 2
}
