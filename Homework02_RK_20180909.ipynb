{
 "cells": [
  {
   "cell_type": "markdown",
   "metadata": {},
   "source": [
    "Rand Kelly"
   ]
  },
  {
   "cell_type": "markdown",
   "metadata": {},
   "source": [
    "AST 713"
   ]
  },
  {
   "cell_type": "markdown",
   "metadata": {},
   "source": [
    "Homework 02; 20180909"
   ]
  },
  {
   "cell_type": "markdown",
   "metadata": {},
   "source": [
    "\n",
    "\n",
    "Lecture Problem"
   ]
  },
  {
   "cell_type": "markdown",
   "metadata": {},
   "source": [
    "There is a disk of gas $ d=100pc$ away from a radio telescope measuring a flux of $ F=100mJy$ at a wavelength of $ \\lambda=1mm$. The temperatur of the disk is recorded at $T=20K$. What is the mass of the disk?"
   ]
  },
  {
   "cell_type": "markdown",
   "metadata": {},
   "source": [
    "I will start out by using Wien's Law to determine what the peak wavelength, $\\lambda_{Max}$ is for this spectrum at this temperature."
   ]
  },
  {
   "cell_type": "markdown",
   "metadata": {},
   "source": [
    "$ \\lambda_{Max}T = 0.29cm K$"
   ]
  },
  {
   "cell_type": "markdown",
   "metadata": {},
   "source": [
    "$\\lambda_{Max} = \\frac{0.29cmK}{T}$"
   ]
  },
  {
   "cell_type": "markdown",
   "metadata": {},
   "source": [
    "$\\lambda_{Max} = \\frac{0.29cmK}{20K}$"
   ]
  },
  {
   "cell_type": "markdown",
   "metadata": {},
   "source": [
    "$\\lambda_{Max} = 0.15 mm$"
   ]
  },
  {
   "cell_type": "markdown",
   "metadata": {},
   "source": [
    "$\\lambda >> \\lambda_{Max}$ since we can easily see that $1mm >> 0.15mm$. Therefore, this falls within the Rayleigh-Jeans limit. Thus we can approximate the intensity as $B_{\\nu} = \\frac{2\\nu^2k_BT}{c^2}$. Using the fact that $c = \\nu \\lambda$ and pluggin that into the equation, we are left with:"
   ]
  },
  {
   "cell_type": "markdown",
   "metadata": {},
   "source": [
    "$B_{\\nu} = \\frac{2k_BT}{\\lambda^2} = \\frac{2(1.4x10^{-16}ergK^{-1})(20K)}{0.1cm} = \\frac{5.6x10^{-15}}{0.01cm^2} = 5.6x10^{-13}\\frac{erg}{cm^2}$."
   ]
  },
  {
   "cell_type": "markdown",
   "metadata": {},
   "source": [
    "We know that the flux is determined by the following formula: $F = \\frac{B_{\\nu}k_{\\nu}M_D}{d^2}$, where $M_D$ is the mass of the disk and $d$ is the distance to the disk."
   ]
  },
  {
   "cell_type": "markdown",
   "metadata": {},
   "source": [
    "$k_{\\nu} = \\frac{\\alpha_{\\nu}}{\\rho} $ where $\\alpha_{\\nu}$ is equal to the number density of the particles times the particles area which equals: $\\alpha_{\\nu} = \\frac{3}{4\\pi{s}}cm^{-1}$ where $s$ is the diameter of the particle. We are given that the particle sizes are $1cm$ in diameter and that $\\rho = 1\\frac{g}{cm^3}$. Pluggin all of these values in gives the following:"
   ]
  },
  {
   "cell_type": "markdown",
   "metadata": {},
   "source": [
    "$k_{\\nu} = \\frac{\\alpha_{\\nu}}{\\rho} = \\frac{\\frac{3}{4\\pi{s}}cm^{-1}}{1\\frac{g}{cm^3}} = \\frac{3}{4\\pi}\\frac{cm^2}{g} = 0.239 \\frac{cm^2}{g} $"
   ]
  },
  {
   "cell_type": "markdown",
   "metadata": {},
   "source": [
    "Rearranging $F = \\frac{B_{\\nu}k_{\\nu}M_D}{d^2}$ to solve for $M_D$ we get: $M_D = \\frac{Fd^2}{B_{\\nu}k_{\\nu}}$. "
   ]
  },
  {
   "cell_type": "markdown",
   "metadata": {},
   "source": [
    "$F = 100mJy = (100mJy) (\\frac{1Jy}{1000mJy})( (10^{-23}\\frac{erg}{scm^2Hz}) = 1x10^{-24}\\frac{erg}{cm^2}$"
   ]
  },
  {
   "cell_type": "markdown",
   "metadata": {},
   "source": [
    "$100pc = (100)(3.1x10^{18}cm) = 3.1x10^{20}cm$"
   ]
  },
  {
   "cell_type": "markdown",
   "metadata": {},
   "source": [
    "Pluggin all of our values into the equation we now can calculate the mass of the disk."
   ]
  },
  {
   "cell_type": "markdown",
   "metadata": {},
   "source": [
    "$M_D = \\frac{Fd^2}{B_{\\nu}k_{\\nu}} = \\frac{(1x10^{-24}\\frac{erg}{cm^2})(3.1x10^{20}cm)^2}{(5.6x10^{-13}\\frac{erg}{cm^2})(0.239 \\frac{cm^2}{g})} $"
   ]
  },
  {
   "cell_type": "markdown",
   "metadata": {},
   "source": [
    "$M_D = 7.18 x 10^{29} g$"
   ]
  },
  {
   "cell_type": "markdown",
   "metadata": {},
   "source": [
    "Problem #4"
   ]
  },
  {
   "cell_type": "markdown",
   "metadata": {},
   "source": [
    "The maximal radial velocities measured for the two componenets of a spectroscopic binary are 100 and 200 km $s^{-1}$, with an orbital period of 2 days. The orbits are circular."
   ]
  },
  {
   "cell_type": "markdown",
   "metadata": {},
   "source": [
    "a.) Find the mass ratio of the two stars."
   ]
  },
  {
   "cell_type": "markdown",
   "metadata": {},
   "source": [
    "$v_{1obs} = 100 \\frac{km}{s}$"
   ]
  },
  {
   "cell_type": "markdown",
   "metadata": {},
   "source": [
    "$v_{2obs} = 200 \\frac{km}{s}$"
   ]
  },
  {
   "cell_type": "markdown",
   "metadata": {},
   "source": [
    "$ \\frac{v_{1obs}}{v_{2obs}} = \\frac{M_2}{M_1} = \\frac{100\\frac{km}{s}}{200\\frac{km}{s}} = \\frac{1}{2}$"
   ]
  },
  {
   "cell_type": "markdown",
   "metadata": {},
   "source": [
    "b.) Use Kepler's law (Eq. 2.42) to calculate the value of $M\\sin^3(i)$ for each star, where M is the mass and i is the inclination to the observer's line of sight perpendicular to the orbital plane. Answer: $3.7M_{Solar}$ and $1.8M_{Solar}$."
   ]
  },
  {
   "cell_type": "markdown",
   "metadata": {},
   "source": [
    "$ (M_1 + M_2)\\sin^3(i) = \\frac{\\tau(v_{1obs} + v_{2obs})^3}{2\\pi G}$"
   ]
  },
  {
   "cell_type": "markdown",
   "metadata": {},
   "source": [
    "$\\tau = (2 days)(24 hours)(3600 s) = 172800 s$"
   ]
  },
  {
   "cell_type": "markdown",
   "metadata": {},
   "source": [
    "$ (M_1 + M_2)\\sin^3(i) = \\frac{(172800s)(300\\frac{km}{s})^3}{2 \\pi (6.7x10^{-8}\\frac{erg cm}{g^2})} = 1.11 x 10^{34} g = 5.54 M_{Solar}$"
   ]
  },
  {
   "cell_type": "markdown",
   "metadata": {},
   "source": [
    "$ (2M_2 + M_2)\\sin^3(i) = 3M_2\\sin^3(i) = 5.54M_{Solar} $"
   ]
  },
  {
   "cell_type": "markdown",
   "metadata": {},
   "source": [
    "$ M_2\\sin^3(i) = 1.85M_{Solar} $"
   ]
  },
  {
   "cell_type": "markdown",
   "metadata": {},
   "source": [
    "$ (M_1 + 0.5M_1)\\sin^3(i) = 1.5M_1\\sin^3(i) = 5.54M_{Solar} $"
   ]
  },
  {
   "cell_type": "markdown",
   "metadata": {},
   "source": [
    "$ M_1\\sin^3(i) = 3.69M_{Solar} $"
   ]
  },
  {
   "cell_type": "markdown",
   "metadata": {},
   "source": [
    "c.) Calculate the mean expectation value of the factor $\\sin^3(i)$, i.e., the mean value it would have among an ensemble of binaries with random inclinations. Find the masses of the two stars, if $\\sin^3(i)$ has its mean value. Hint: In Spherical coordinates, $(\\theta, \\phi)$, integrate over the solid angle of a sphere where the observer is in the direction of the z-axis, with each solid angle element weighted by $\\sin^2(\\theta)$. Answer: $\\frac{3\\pi}{16} = 0.59$; $6.3M_{Solar}$ and $3.1M_{Solar}$."
   ]
  },
  {
   "cell_type": "markdown",
   "metadata": {},
   "source": [
    "The expectation value of $\\sin^3(i) = \\frac{3\\pi}{16} = 0.589 $"
   ]
  },
  {
   "cell_type": "markdown",
   "metadata": {},
   "source": []
  }
 ],
 "metadata": {
  "kernelspec": {
   "display_name": "Python 3",
   "language": "python",
   "name": "python3"
  },
  "language_info": {
   "codemirror_mode": {
    "name": "ipython",
    "version": 3
   },
   "file_extension": ".py",
   "mimetype": "text/x-python",
   "name": "python",
   "nbconvert_exporter": "python",
   "pygments_lexer": "ipython3",
   "version": "3.6.5"
  }
 },
 "nbformat": 4,
 "nbformat_minor": 2
}
