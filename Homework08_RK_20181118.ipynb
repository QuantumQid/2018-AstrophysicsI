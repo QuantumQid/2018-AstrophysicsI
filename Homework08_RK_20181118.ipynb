{
 "cells": [
  {
   "cell_type": "markdown",
   "metadata": {},
   "source": [
    "## Rand Kelly\n",
    "## AST 713\n",
    "## Homework 08; 20181118"
   ]
  },
  {
   "cell_type": "markdown",
   "metadata": {},
   "source": [
    "### Chapter 7 Problem 4"
   ]
  },
  {
   "cell_type": "markdown",
   "metadata": {},
   "source": [
    "The number density for the line of sight is:\n",
    "### $ n = \\frac{M_{Disc}}{m\\bullet V} = \\frac{M_{Disc}}{m\\bullet \\pi r_{bulge}^2 \\bullet h}$\n",
    "Where h is the thickness of the disc.\n",
    "The cross section can be used from Equation [7.20] in the text as\n",
    "### $ \\sigma = \\pi \\bullet \\big(\\frac{4Gm}{c^2}\\big) \\big(\\frac{D_{ls}}{lD_{ol}}\\big) D_{ol}^2 = \\pi \\bullet \\big(\\frac{4Gm}{c^2}\\big) \\big(\\frac{D_{ls}}{l}\\big) D_{ol} $\n",
    "Where l is the distance to the bulge; $l = r_{bulge} $\n",
    "The probablility is thus:\n",
    "### $ P = n\\bullet \\sigma \\bullet r_{bulge} = \\big( \\frac{M_{Disc}}{m\\bullet \\pi r_{bulge}^2 \\bullet h} \\big) \\bullet \\big( \\pi \\bullet \\big(\\frac{4Gm}{c^2}\\big) \\big(\\frac{D_{ls}}{l}\\big) D_{ol} \\big) \\bullet l$\n",
    "### $ P = \\frac{4M_DGD_{ls}D_{ol}}{r_{bulge}^2hc^2}$\n",
    "However, from the question, we know that $ D_{ls} = D_{ol} = (1/2)D_{os} = (1/2)r_{bulge} $\n",
    "### $ P = \\frac{4M_DGD_{ls}D_{ol}}{r_{bulge}^2hc^2} = \\frac{4M_DGr_{bulge}^2}{4r_{bulge}^2hc^2}$\n",
    "### $ P = \\frac{M_DG}{hc^2} = \\frac{(5\\times10^{10}) \\bullet (2.0\\times10^{33}g) \\bullet (6.7\\times10^{-8}erg\\bullet cm/g^2)}{(1kpc)\\bullet (3.1\\times10^{21}cm/kpc)\\bullet (3\\times10^{10}cm/s)^2}$\n",
    "### $ \\implies P = 2.4\\times10^{-6} $"
   ]
  },
  {
   "cell_type": "markdown",
   "metadata": {},
   "source": [
    "### Chapter 8 Problem 3"
   ]
  },
  {
   "cell_type": "markdown",
   "metadata": {},
   "source": [
    "### a)\n",
    "### $ n = \\frac{M_{cluster}}{m_H\\bullet V} = \\frac{3(0.15)M_{cluster}}{4m_H \\pi r^3 } = \\frac{(0.45)M_{cluster}}{4m_H \\pi r^3 }$\n",
    "The number density can also be obtained by\n",
    "### $ n = \\frac{0.001}{\\sigma_T2r} $\n",
    "Equating these two and solving for r we get\n",
    "### $ r = \\sqrt{\\frac{(0.45)M_{cluster}\\sigma_T}{0.002m_H\\pi}} = \\sqrt{\\frac{(0.45)(2\\times10^{14})(2\\times10^{33}g)(6.7\\times10^{-25}cm^2)}{(0.002)(1.7\\times10^{-24}g)\\pi}} = 3.36\\times10^{24}cm$\n",
    "### $ d = 2r = 2(3.36\\times10^{24}cm) = (6.72\\times10^{24}cm)\\big(\\frac{1pc}{3.1\\times10^{18}cm}\\big) = 2.16\\times10^6pc$\n",
    "### $ \\implies d = 2.16 Mpc $"
   ]
  },
  {
   "cell_type": "markdown",
   "metadata": {},
   "source": [
    "### b)\n",
    "Knowing that\n",
    "### $ \\theta = \\frac{d}{D} $\n",
    "Where D is the distance to the cluster, we can solve for it to get:\n",
    "### $ D = \\frac{d}{\\theta} = \\frac{(2.16Mpc)}{1^{\\circ}(\\pi / 180^{\\circ})} = \\frac{180(2.16Mpc)}{\\pi} $\n",
    "### $ \\implies D = 124Mpc $"
   ]
  },
  {
   "cell_type": "markdown",
   "metadata": {},
   "source": [
    "### c)\n",
    "Using Equation [8.18] from the text we can solve for the Hubble parameter;\n",
    "### $ v = H_0D $\n",
    "### $ H_0 = \\frac{v}{D} = \\frac{8400km/s}{124Mpc} $\n",
    "### $ \\implies H_0 = 68 km\\bullet s^{-1}\\bullet Mpc^{-1} $"
   ]
  },
  {
   "cell_type": "code",
   "execution_count": null,
   "metadata": {},
   "outputs": [],
   "source": []
  }
 ],
 "metadata": {
  "kernelspec": {
   "display_name": "Python 3",
   "language": "python",
   "name": "python3"
  },
  "language_info": {
   "codemirror_mode": {
    "name": "ipython",
    "version": 3
   },
   "file_extension": ".py",
   "mimetype": "text/x-python",
   "name": "python",
   "nbconvert_exporter": "python",
   "pygments_lexer": "ipython3",
   "version": "3.6.5"
  }
 },
 "nbformat": 4,
 "nbformat_minor": 2
}
