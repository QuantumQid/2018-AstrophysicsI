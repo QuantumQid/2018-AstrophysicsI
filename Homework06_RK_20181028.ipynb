{
 "cells": [
  {
   "cell_type": "markdown",
   "metadata": {},
   "source": [
    "## Rand Kelly\n",
    "## AST 713\n",
    "## Homework 06; 20181028"
   ]
  },
  {
   "cell_type": "markdown",
   "metadata": {},
   "source": [
    "### Chapter 5 Problem 4a"
   ]
  },
  {
   "cell_type": "markdown",
   "metadata": {},
   "source": [
    "We begin by starting with the hint that the electrostatic potential energy roughly equals the kinetic energy. Therefore we begin with the following:\n",
    "### $ U \\sim K$\n",
    "### $ \\frac{q_1\\times q_2}{r} \\sim k_B\\times T $\n",
    "### $ \\frac{e^2}{r} \\sim k_B\\times T $\n",
    "Rearranging this to solve for the radius we get\n",
    "### $ r \\sim \\frac{e^2}{k_B \\times T} $\n",
    "In order to then find the cross section we multiply by $\\pi$ to get\n",
    "### $ \\sigma_{e,p} \\sim \\pi \\times r^2 \\sim \\frac{\\pi e^4}{(k_B \\times T)^2} = \\frac{\\pi (4.8\\times 10^{-10}esu)^4}{((1.4\\times10^{-16}erg\\bullet K^{-1}) \\times (10^4K))^2} $\n",
    "### $\\implies \\sigma_{e,p} \\sim 8.5 \\times10^{-14}cm^{2} $ \n",
    "Now onto solving for the mean free path $l$ we have\n",
    "### $ l = \\frac{1}{n\\times \\sigma} \\sim \\frac{1}{n\\times \\sigma_{e,p}} \\sim \\frac{1}{(1cm^{-3}) \\times (8.5 \\times10^{-14}cm^{2})} $\n",
    "### $\\implies l \\sim 1.2 \\times10^{13} cm$"
   ]
  },
  {
   "cell_type": "markdown",
   "metadata": {},
   "source": [
    "### Chapter 5 Problem 5"
   ]
  },
  {
   "cell_type": "markdown",
   "metadata": {},
   "source": [
    "### a)"
   ]
  },
  {
   "cell_type": "markdown",
   "metadata": {},
   "source": [
    "The ratio of the thermal energy per unit mass of the shocked gas, $ \\epsilon$, and the kinetic energy per unit mass of the inflowing upstream gas in the shock frame, $E_{k,0} = \\frac{v_0^2}{2}$, is\n",
    "### $ E_1 \\equiv \\frac{\\epsilon}{E_{k,0}} $\n",
    "From Equation [5.58] in the book\n",
    "### $\\epsilon = \\frac{1}{(\\gamma - 1)}\\frac{k_BT}{\\bar m} $\n",
    "We also have from the boo Equation [5.65] which is\n",
    "### $ T_1 = \\frac{2(\\gamma - 1)}{(\\gamma +1)^2}\\frac{\\bar m}{k_B}v_0^2 $\n",
    "We can substitute in Equation [5.65] into Equation [5.58] and get the following\n",
    "### $ \\epsilon = \\frac{1}{(\\gamma - 1)}\\frac{k_BT_1}{\\bar m} = \\frac{1}{(\\gamma - 1)}\\frac{k_B}{\\bar m} \\frac{2(\\gamma - 1)}{(\\gamma +1)^2}\\frac{\\bar m}{k_B}v_0^2$\n",
    "Which then reduces to\n",
    "### $\\implies \\epsilon = \\frac{2v_0^2}{(\\gamma +1)^2} $\n",
    "Now we solve for the ratio $E_1$\n",
    "### $ E_1 \\equiv \\frac{\\epsilon}{E_{k,0}} = \\frac{\\frac{2v_0^2}{(\\gamma +1)^2}}{\\frac{v_0^2}{2}} = \\frac{4}{(\\gamma +1)^2} = \\frac{4}{((5/3) +1)^2} = \\frac{4}{(8/3)^2} =\\frac{4}{64/9} = \\frac{9}{16}$\n",
    "### $ \\implies E_1 \\equiv \\frac{\\epsilon}{E_{k,0}} = \\frac{9}{16} $"
   ]
  },
  {
   "cell_type": "markdown",
   "metadata": {},
   "source": [
    "### b)"
   ]
  },
  {
   "cell_type": "markdown",
   "metadata": {},
   "source": [
    "The kinetic energy per unit mass of the shocked gas in the shock frame can be defined as the following:\n",
    "### $ E_{k,1} = \\frac{v_1^2}{2} $\n",
    "The ratio of the kinetic energy per unit mass of the shocked gas with the energy per unit mass of the inflowing upstream gas in the shock frame is thus,\n",
    "### $ \\frac{E_{k,1}}{E_{k,0}} = \\frac{\\frac{v_1^2}{2}}{\\frac{v_0^2}{2}} = (\\frac{v_1}{v_0})^2$\n",
    "We know that from Equation [5.60] and Equation [5.61] that\n",
    "### $ \\frac{\\rho_1}{\\rho_0} = \\frac{v_0}{v_1} = \\frac{(\\gamma +1)}{(\\gamma - 1)}$\n",
    "Pluggin this into the above equation and substituing $\\gamma = 5/3$ we get\n",
    "### $ (\\frac{v_1}{v_0})^2 = \\big(\\frac{(\\gamma - 1)}{(\\gamma +1)}\\big)^2 = \\big(\\frac{(5/3 - 1)}{(5/3 +1)}\\big)^2 = \\big(\\frac{(2/3)}{(8/3)}\\big)^2 = \\big(\\frac{1}{4}\\big)^2 = \\frac{1}{16}$\n",
    "### $\\implies \\frac{E_{k,1}}{E_{k,0}} = \\frac{1}{16} $"
   ]
  },
  {
   "cell_type": "markdown",
   "metadata": {},
   "source": [
    "### c)"
   ]
  },
  {
   "cell_type": "markdown",
   "metadata": {},
   "source": [
    "The kinetic energy per unit mass of the shocked gas in the observer frame can be defined as\n",
    "### $ E_{k,2} = \\frac{v^2}{2} $\n",
    "The ratio of the inetic energy per unit mass of the shocked gas in the observer frame to the kinetic energy per unit mass of the inflowing upstream gas can be seen as follows:\n",
    "### $ \\frac{E_{k,2}}{E_{k,0}} =\\frac{\\frac{v2}{2}}{\\frac{v_0^2}{2}} = (\\frac{v}{v_0})^2$\n",
    "In the observer frame we know that $v = v_0-v_1$ and thus pluggin that into the above equation we get:\n",
    "### $ \\frac{E_{k,2}}{E_{k,0}} = (\\frac{v}{v_0})^2 = (\\frac{v_0-v_1}{v_0})^2 = \\frac{v_02-2v_0v_1+v_1^2}{v_0^2} = 1 -2 \\frac{v_1}{v_0} + (\\frac{v_1}{v_0})^2$\n",
    "From part b) we know that\n",
    "### $ \\frac{v_1}{v_0} = \\frac{\\gamma -1}{\\gamma +1} $\n",
    "Pluggin this into the above equation of the ratios of the kinetic energies oer unti mass of the observer frame to the shock frame with $\\gamma = 5/3$ we get:\n",
    "### $ \\frac{E_{k,2}}{E_{k,0}} = 1 -2 \\frac{v_1}{v_0} + (\\frac{v_1}{v_0})^2 = 1 -2 (\\frac{\\gamma-1}{\\gamma+1}) + (\\frac{\\gamma-1}{\\gamma+1})^2 = 1 -2 (\\frac{5/3-1}{5/3+1}) + (\\frac{5/3-1}{5/3+1})^2 =1 -2 (\\frac{1}{4}) + (\\frac{1}{4})^2$\n",
    "### $ \\implies \\frac{E_{k,2}}{E_{k,0}} = \\frac{9}{16} $"
   ]
  },
  {
   "cell_type": "markdown",
   "metadata": {},
   "source": [
    "### Chapter 5 Problem 6"
   ]
  },
  {
   "cell_type": "markdown",
   "metadata": {},
   "source": [
    "### a)"
   ]
  },
  {
   "cell_type": "markdown",
   "metadata": {},
   "source": [
    "We begin with the synchrotron cooling time:\n",
    "### $ t_{cool} \\sim 10yr\\frac{1}{\\gamma B^2} $\n",
    "We calculate the velocity of the thin expanding region of the shock in the observers reference frame as\n",
    "### $ v = v_0 - v_1 = v_0 - \\frac{v_0}{4} = \\frac{3v_0}{4}  = \\frac{3\\times 6000km/s}{4} = 4.5\\times10^8 cm/s$\n",
    "The time to cool is then\n",
    "### $t_{cool} = \\frac{d}{v} = \\frac{(0.1pc)(3.1\\times10^{18}cm/pc)}{4.5\\times10^8 cm/s} = \\frac{6.8\\times10^8s}{3.15\\times10^7s/yr} = 21.9 yrs$\n",
    "Rearranging this with the synchrotron cooling time we get\n",
    "### $ \\gamma B^2 \\sim \\frac{10yr}{t_{cool}} = \\frac{10yr}{21.9yrs} = 0.46 $\n",
    "Assuming that the peak energy is 4keV, we have\n",
    "### $h\\nu_{Peak} = h(0.29\\nu_{snych}) = 4keV $\n",
    "### $ \\nu_{snych} = \\frac{4keV}{0.29h} = \\frac{(4keV)(1.6\\times10^{-12}erg/eV)}{(0.29)(6.6\\times10^{-27}erg \\bullet s)} = 3.3\\times10^{18}Hz$\n",
    "From Equation [5.93] we know that\n",
    "### $ \\nu_{synch} = (4.2MHz)\\gamma^2B $\n",
    "Equating the two terms above and rearranging we get\n",
    "### $ (4.2MHz)\\gamma^2B = 3.3\\times10^{18}Hz $\n",
    "### $\\gamma^2B = \\frac{3.3\\times10^{18}Hz}{4.2MHz} = 7.9\\times10^{11} $\n",
    "From above, we know that $\\gamma B^2 = 0.46 $ and thus\n",
    "### $ \\gamma = \\frac{0.46}{B^2} $\n",
    "Therefore\n",
    "### $ \\gamma^2B = (\\frac{0.46}{B^2})^2B = \\frac{0.2116}{B^3} = 7.9\\times10^{11}$\n",
    "### $ \\implies B = \\big(\\frac{0.2116}{7.9\\times10^{11}}\\big)^{1/3} = 64\\mu G$\n",
    "### $ \\implies \\gamma = \\frac{0.46}{B^2} = \\frac{0.46}{(64\\mu G)^2} = 1.1\\times10^8$\n",
    "### $ \\implies E_e = \\gamma m_ec^2 = (1.1\\times10^8)(0.511MeV) = 5.6\\times10^{13} eV $"
   ]
  },
  {
   "cell_type": "markdown",
   "metadata": {},
   "source": [
    "### b)"
   ]
  },
  {
   "cell_type": "markdown",
   "metadata": {},
   "source": [
    "We begin with the following proportionalities\n",
    "### $ t \\propto \\frac{1}{\\gamma} $\n",
    "### $ \\nu_{synch} \\propto \\gamma^2B $\n",
    "### $ E_{Photon} \\propto \\nu_{synch} $\n",
    "### $ t \\propto d $\n",
    "### $ \\gamma \\propto \\sqrt{\\nu_{synch}} $\n",
    "Therefore if the energy is 1/4, then $ \\nu_{snych}$ is 1/4 and then $\\gamma$ is 1/2, which leads the time and distance to be doubled.The new rim width would thus be \n",
    "### $\\implies d = 0.2pc$\n",
    "If the rim width was independent of energy, then the only explanation would be a change in the magnetic field. This is because if the energy changes then gamma changes and for the rim width to not change, B would have to vary in some way."
   ]
  }
 ],
 "metadata": {
  "kernelspec": {
   "display_name": "Python 3",
   "language": "python",
   "name": "python3"
  },
  "language_info": {
   "codemirror_mode": {
    "name": "ipython",
    "version": 3
   },
   "file_extension": ".py",
   "mimetype": "text/x-python",
   "name": "python",
   "nbconvert_exporter": "python",
   "pygments_lexer": "ipython3",
   "version": "3.6.5"
  }
 },
 "nbformat": 4,
 "nbformat_minor": 2
}
