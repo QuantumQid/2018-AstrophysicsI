{
 "cells": [
  {
   "cell_type": "markdown",
   "metadata": {},
   "source": [
    "### Rand Kelly\n",
    "### AST 713\n",
    "### Homework 04; 20180930"
   ]
  },
  {
   "cell_type": "markdown",
   "metadata": {},
   "source": [
    "### Chapter 4 Problem 1"
   ]
  },
  {
   "cell_type": "markdown",
   "metadata": {},
   "source": [
    " In a fully degenerate gas, all the particles have energies lower than the Fermi energy. For such a gas we found (Eq. 4.19) the relation between the density $n_e$ and the Fermi momentum $p_F$:\n",
    "\n",
    "### $ n_e = \\frac{8\\pi}{3h^{3}}p_F^{3}$."
   ]
  },
  {
   "cell_type": "markdown",
   "metadata": {},
   "source": [
    " a.) For a nonrelativistic electron gas, use the relation $p_F = \\sqrt{2m_eE_F} $ between the Fermi momentum, the electron mass $m_e$, and the Fermi energy $E_F$, to express $E_F$ in terms of $n_e$ and $m_e$."
   ]
  },
  {
   "cell_type": "markdown",
   "metadata": {},
   "source": [
    "### $ p_F^3 = (2m_eE_F)^{3/2} $\n",
    "### $ n_e = \\frac{8\\pi}{3h^3}(2m_eE_F)^{3/2} $\n",
    "### $ E_F^{3/2} = \\frac{3h^3n_e}{8\\pi} \\frac{1}{(2m_e)^{3/2}} $\n",
    "## $ \\implies E_F = \\big(\\frac{3h^3n_e}{8\\pi}\\big)^{2/3}\\big(\\frac{1}{2m_e}\\big) $"
   ]
  },
  {
   "cell_type": "markdown",
   "metadata": {},
   "source": [
    " b.) Estimate a characterisitc $n_e$ under typical conditions inside a white dwarf. Using the results of (a), and assuming a temperature $T=10^7K$, evaluate numerically the ratio $E_{th}/E_F$, where $E_{th}$ is the characteristic thermal energy of an electron in a gas of temperature T, to see that the electrons inside a white dwarf are indeed degenerate."
   ]
  },
  {
   "cell_type": "markdown",
   "metadata": {},
   "source": [
    "From the literature in the book about a typical white dwarf, $\\rho \\sim 10^6g\\bullet cm^{-3}$ and $Z/A \\approx 0.5$.\n",
    "### $n_e = \\frac{Z}{A}\\frac{\\rho}{m_p} = \\frac{\\rho}{2m_p} $\n",
    "### $ E_F = \\big(\\frac{3h^3n_e}{8\\pi}\\big)^{2/3}\\big(\\frac{1}{2m_e}\\big) = \\big(\\frac{3h^3\\rho}{2m_p8\\pi}\\big)^{2/3}\\big(\\frac{1}{2m_e}\\big) = \\Big(\\frac{3(6.6\\times10^{-27}erg\\bullet s)^3(10^6g\\bullet cm^{-3})}{16\\pi(1.7\\times10^{-24}g)}\\Big)^{2/3} \\Big(\\frac{1}{2(9.1\\times 10^{-28}g)}\\Big) = 2.57\\times10^{-7}erg $\n",
    "### $E_{TH} = \\frac{3}{2}k_BT = \\frac{3}{2}\\big(1.4\\times10^{-16}erg\\bullet K^{-1}\\big)\\big(10^7K\\big) = 2.1\\times 10^{-9} erg $\n",
    "## $ \\implies \\frac{E_{TH}}{E_F} = \\frac{2.1\\times 10^{-9}erg}{2.57\\times 10^{-7} erg} = 8.2 \\times 10^{-3} $"
   ]
  },
  {
   "cell_type": "markdown",
   "metadata": {},
   "source": [
    "### Chapter 4 Problem 4"
   ]
  },
  {
   "cell_type": "markdown",
   "metadata": {},
   "source": [
    "A type-Ia supernova is the thermonuclear explosion of a white dwarf, possibly after the white dwarf has accreted matter and approached or reached the Chandrasekhar limit."
   ]
  },
  {
   "cell_type": "markdown",
   "metadata": {},
   "source": [
    "a.) Use the virial theorem to obtain an expression for the mean pressure insude a white dwarf of mass M and radius R."
   ]
  },
  {
   "cell_type": "markdown",
   "metadata": {},
   "source": [
    "### $\\bar{P} = -\\frac{1}{3}\\frac{E_{gr}}{V} $\n",
    "### $ E_{gr} = -\\frac{GM^2}{R} $\n",
    "### $ \\bar{P} = -\\frac{1}{3}\\frac{E_{gr}}{V} = -\\frac{1}{3}\\frac{1}{V}\\big (-\\frac{GM^2}{R}\\big) = \\frac{1}{3} \\big( \\frac{GM^2}{R} \\big) \\big ( \\frac{3}{4\\pi R^3} \\big) $\n",
    "## $ \\implies \\bar{P} = \\frac{GM^2}{4\\pi R^4} $"
   ]
  },
  {
   "cell_type": "markdown",
   "metadata": {},
   "source": [
    "b.) Use the results of (a) to estimate, to an order of magnitude, the speed of sound, $v_s = \\sqrt{dP/d\\rho} \\sim \\sqrt{P/\\rho}$, inside a white dwarf. In an accreting white dwarf with a carbon core that has reached nuclear ignition temperature, a nuclear burning \"flame\" encompasses the star at the sound velocity or faster. Within how much time, in seconds, doe the flame traverse the radius of the white dwarf, assuming $R=10^4km$, $M=1.4M_{\\odot}$? Note that this sound-crossing timescale is $\\sim (G\\rho)^{-1/2}$, which is also the free-fall timescale (Eq. 3.15)."
   ]
  },
  {
   "cell_type": "markdown",
   "metadata": {},
   "source": [
    "### $ v_s = \\sqrt{\\frac{dP}{d\\rho}} $\n",
    "### $\\frac{dP}{d\\rho} = \\frac{d}{d\\rho} \\big(\\frac{GM^2}{4\\pi R^4} \\big) = \\frac{d}{d\\rho} \\big(\\frac{GM\\rho}{3R} \\big) = \\frac{GM}{3R} = \\frac{(6.7\\times 10^{-8}erg \\bullet cm \\bullet g^{-2})1.4(2.0 \\times 10^{33}g)}{3(10^9cm)}$\n",
    "### $ v_s = \\sqrt{\\frac{dP}{d\\rho}} = \\sqrt {\\frac{(6.7\\times 10^{-8}erg \\bullet cm \\bullet g^{-2})1.4(2.0 \\times 10^{33}g)}{3(10^9cm)}} $\n",
    "## $ \\implies v_s = 2.5 \\times10^8 cm/s $\n",
    "### $ t = \\frac{d}{v} = \\frac{R}{v_s} = \\frac{10^9cm}{2.5\\times 10^8 cm/s} $\n",
    "## $ \\implies t = 4.0 s $"
   ]
  },
  {
   "cell_type": "markdown",
   "metadata": {},
   "source": [
    "c.) Calculate the total energy output, in ergs, of the explosion, assuming that the entire mass of the white dwarf is synthesized from carbon to nickel, with a mass-to-energy conversion efficiency of 0.1%. Compare this energy to the gravitational binding energy of the white dwarf, to demonstrate that the white dwarf is disrupted completely, without leaving any remnant."
   ]
  },
  {
   "cell_type": "markdown",
   "metadata": {},
   "source": [
    "### $ \\Delta E = 0.001mc^2 = (0.001) (1.4M_{\\odot})c^2 = (10^{-3})(1.4\\times 2.0\\times 10^{33}g)(3.0\\times 10^{10}cm/s)^2 $\n",
    "### $ \\Delta E = 2.52 \\times 10^{51} erg $\n",
    "### $ E_{gr} = \\frac{GM^2}{R} = \\frac{(6.7 \\times 10^{-8}erg \\bullet cm \\bullet g^{-2})(1.4 \\times 2.0 \\times 10^{33}g)^2}{10^9cm} $\n",
    "### $ E_{gr} = 5.25 \\times 10^{50} $\n",
    "### $ \\frac{\\Delta E}{E_{gr}} = \\frac{2.52 \\times 10^{51}}{5.25 \\times 10^{50}} = 4.8 $\n",
    "### $ \\implies $ The total energy output is greater than the gravitational binding energyr and thus nothing will be left behind."
   ]
  },
  {
   "cell_type": "markdown",
   "metadata": {},
   "source": [
    "d.) Gamma rays from the radioactive decays $Ni^{56} \\to Co^{56} + \\gamma \\to Fe^{56} + \\gamma$ drive all of the optical luminosity of a type-Ia supernova. The atomic weights of $Ni^{56}$ and $Fe^{56}$ are 55.942135 and 55.934941, respectively. Calculate the total energy radiated in the optical range during the event. Given that the characteristic times for the two radioactive decay processes are 8.8 days and 111 days, respectively, show that the typical luminosity is $\\sim 10^{10}L_{\\odot}$."
   ]
  },
  {
   "cell_type": "markdown",
   "metadata": {},
   "source": [
    "The fraction of $Ni^{56} $ that is converted to energy is\n",
    "### $ 1- \\frac{Fe^{56}}{Ni^{56}} = 1 - \\frac{55.934941}{55.942135} = 1.28597 \\times 10^{-4} $\n",
    "### $ E = (fraction)mc^2 = (1.28597 \\times 10 ^{-4})1.4(2.0 \\times 10^{33}g)(3.0 \\times 10^{10}cm)^2 $\n",
    "## $ \\implies E = 3.2 \\times 10^{50} erg $\n",
    "The total time it takes for the process to occur in seconds is\n",
    "### $ t = 8.8 days + 111 days = 119.8 days (\\frac{24hours}{1day})(\\frac{3600s}{1hour}) = 1.04 \\times 10 ^7 s $\n",
    "### $ \\frac{L}{L_{\\odot}} = \\frac{\\frac{3.2 \\times 10^{50}erg}{1.04 \\times 10^7 s}}{3.8 \\times 10^{33}erg \\bullet s^{-1}} = 8.1 \\times 10^9$\n",
    "## $ \\implies L = 8.1 \\times 10^9 L_{\\odot} \\sim 10^{10}L_{\\odot} $"
   ]
  },
  {
   "cell_type": "markdown",
   "metadata": {},
   "source": [
    "e.) It takes a type-Ia supernova about 17 days from explosion to reaching its maximum brightness. Show that this timescale corresponds to the time that it takes for light to diffuse, in a random walk, through an expanding shell of gas. The shell has a mass $M=1.4M_{\\odot}$, a constant expansion velocity of $v=10^4kms^{-1}$, and an atomic-line opacity of $\\kappa \\approx 0.3cm^2g^{-1}$. Thus, the \"light-curve rise time\" is just the time it takes for the radioactive decay luminosity from the entire shell to become visible. After this point, the supernova fades with time, still powered by the exponentially declining luminosity of the radioactive decay of the expanding mass, but now fully visible. Hint: The photon diffusion time to the surface at radius R is $R^2/(lc)$, where the mean free path is $l=(\\kappa\\rho)^{-1}$. Express $\\rho$ by means of M and R, replace R with vt, and isolate t."
   ]
  },
  {
   "cell_type": "markdown",
   "metadata": {},
   "source": [
    "The photon diffusion time is\n",
    "### $ t = \\frac{R^2}{(lc)} $\n",
    "\n",
    "The mean free path is\n",
    "### $ l = \\frac{1}{\\kappa \\rho} = \\frac{4\\pi R^3}{\\kappa 3M} $\n",
    "\n",
    "Substituting this into the above equation and solving for t we get\n",
    "### $ t = \\frac{3 \\kappa M}{4\\pi c R} $\n",
    "\n",
    "Subsituting $ R = vt$ and we get\n",
    "### $ t = \\sqrt{\\frac{3\\kappa M}{4\\pi c v}} = \\sqrt {\\frac{2(0.3cm^2\\bullet g^{-1})(1.4\\times 2.0 \\times 10^{33}g)}{4\\pi (3.0 \\times 10^{10}cm/s)(10^9 cm/s)}} $\n",
    "\n",
    "### $ \\implies t = 29.9 days $"
   ]
  },
  {
   "cell_type": "markdown",
   "metadata": {},
   "source": []
  }
 ],
 "metadata": {
  "kernelspec": {
   "display_name": "Python 3",
   "language": "python",
   "name": "python3"
  },
  "language_info": {
   "codemirror_mode": {
    "name": "ipython",
    "version": 3
   },
   "file_extension": ".py",
   "mimetype": "text/x-python",
   "name": "python",
   "nbconvert_exporter": "python",
   "pygments_lexer": "ipython3",
   "version": "3.6.5"
  }
 },
 "nbformat": 4,
 "nbformat_minor": 2
}
