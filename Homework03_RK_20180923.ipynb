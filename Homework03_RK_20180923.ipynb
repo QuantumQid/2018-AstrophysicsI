{
 "cells": [
  {
   "cell_type": "markdown",
   "metadata": {},
   "source": [
    "### Rand Kelly\n",
    "### AST 713\n",
    "### Homework 03; 20180923"
   ]
  },
  {
   "cell_type": "markdown",
   "metadata": {},
   "source": [
    "### Chapter 3 Problem 4"
   ]
  },
  {
   "cell_type": "markdown",
   "metadata": {},
   "source": [
    "Consider a hypothetical star of radius R, with density $\\rho$ that is constant, i.e., independent of radius. The star is composed of a classical, nonrelativistic, ideal gas of fully ionied hydrogen."
   ]
  },
  {
   "cell_type": "markdown",
   "metadata": {},
   "source": [
    "a.) Solve the equations of stellar structure for the pressure profile, P(r), with the boundary condition $P(R)=0$. Answer: $ P(r) = (2\\pi/3)G\\rho^2(R^2-r^2)$."
   ]
  },
  {
   "cell_type": "markdown",
   "metadata": {},
   "source": [
    "First, I will begin with the equation of hydrostatic equilibrium:\n",
    "\n",
    "## $\\frac{dP(r)}{dr} = -\\frac{GM(r)\\rho(r)}{r^2} $\n",
    "\n",
    "From the probelm we know that $ \\rho(r) = constant = \\rho$. We can also express mass as a function of radius as the following: $M(r) = \\frac{4\\pi r^3\\rho}{3}$. Using these two, we can modify the above equation to:\n",
    "\n",
    "## $\\frac{dP(r)}{dr} = -\\frac{4\\pi Gr^3 \\rho^2}{3r^2} = -\\frac{4\\pi Gr \\rho^2}{3} $\n",
    "\n",
    "Next, we differentiate over the volume of the star: \n",
    "\n",
    "## $\\int\\limits_r^R dP(r) = -\\int\\limits_r^R \\frac{4\\pi G \\rho^2}{3}rdr $\n",
    "\n",
    "## $P(R) - P(r) = - \\frac{2}{3}G\\pi\\rho^2 \\left.[r^2]\\right|_0^R = - \\frac{2}{3}G\\pi\\rho^2 (R^2 - r^2) $\n",
    "\n",
    "We are also given that $ P(R) = 0$ thus:\n",
    "\n",
    "## $- P(r) = - \\frac{2}{3}G\\pi\\rho^2 (R^2 - r^2) $\n",
    "\n",
    "## $ \\implies P(r) = \\frac{2}{3}G\\pi\\rho^2 (R^2 - r^2) $"
   ]
  },
  {
   "cell_type": "markdown",
   "metadata": {},
   "source": [
    "b.) Finde the temperature profile, T(r)."
   ]
  },
  {
   "cell_type": "markdown",
   "metadata": {},
   "source": [
    "I will begin with the ideal gas law formula and modify it to include mass average and mass density:\n",
    "\n",
    "## $ P(r) = \\frac{NkT}{V} = \\frac{N \\bar{m} kT(r)}{V\\bar{m}}= \\frac{\\rho kT(r)}{\\bar{m}} $\n",
    "\n",
    "From her we plug this into the solution we found from part a.):\n",
    "\n",
    "## $P(r) = \\frac{2}{3}G\\pi\\rho^2 (R^2 - r^2) = \\frac{\\rho kT(r)}{\\bar{m}}$\n",
    "\n",
    "Rearranging the equation to solve for T(r) we get:\n",
    "\n",
    "## $ \\implies T(r) = \\frac{2}{3} \\frac{\\bar{m}\\pi\\rho G}{k} (R^2-r^2) $"
   ]
  },
  {
   "cell_type": "markdown",
   "metadata": {},
   "source": [
    "c.) Assume that the nuclear energy production rate depends on the temperature as $\\epsilon \\sim T^4$. (This is the approximate dependence of the rate for the p-p chain at the temperature in the core of the Sun.) At what radius does $\\epsilon$ decrease to 0.1 of its central value, and what fraction of the star's volume is included within this radius?"
   ]
  },
  {
   "cell_type": "markdown",
   "metadata": {},
   "source": [
    "Here, $ \\epsilon \\sim T^4$ which is then $ \\epsilon \\sim (R^2 - r^2)^4 $\n",
    "\n",
    "## $ \\frac{\\epsilon}{\\epsilon_0} = 0.1 = \\frac{(R^2 - r^2)^4}{(R^2)^4} $\n",
    "## $ R^2 - r^2 = \\sqrt[4]{0.1}R^2$\n",
    "## $ R^2 - \\sqrt[4]{0.1}R^2 = r^2$\n",
    "## $ \\implies r = 0.66R $\n",
    "\n",
    "Next we move on to solve for the fraction of the star's volume.\n",
    "\n",
    "## $ V_R = \\frac{4}{3}\\pi R^3 $\n",
    "## $ V_r = \\frac{4}{3}\\pi r^3 $\n",
    "\n",
    "## $\\implies \\frac{V_r}{V_R} = \\frac{r^3}{R^3} = \\frac{(0.66R)^3}{R^3} = 0.29 $"
   ]
  },
  {
   "cell_type": "markdown",
   "metadata": {},
   "source": [
    "### Chapter 3 Problem 6"
   ]
  },
  {
   "cell_type": "markdown",
   "metadata": {},
   "source": [
    "Consider a star of mass $ M = 10M_{\\odot}$, composed entirely of fully ionized $C^{12}$. Its core temperature is $ T_c = 6 x 10^8K $ (compared to $ T_{c,\\odot} = 1.5 x 10^7 K $ for the Sun)."
   ]
  },
  {
   "cell_type": "markdown",
   "metadata": {},
   "source": [
    "a.) What is the mean particle mass $ \\bar{m} $, in units of $m_H$? Answer: 12/7."
   ]
  },
  {
   "cell_type": "markdown",
   "metadata": {},
   "source": [
    "For the case of Carbon-12, there are 6 electrons, 6 protons, and 6 neutrons. Thus there mean particle mass would be:\n",
    "\n",
    "## $ \\implies \\bar{m} = \\frac{6m_p + 6m_n}{1+6} = \\frac{12m_H}{7} $"
   ]
  },
  {
   "cell_type": "markdown",
   "metadata": {},
   "source": [
    "b.) Use the classical ideal gas law, the dimensional relation between mass, density, and radius, and the virial theorem to find the scaling of the stellar radius $r_{\\ast} $ with total mass M, mean particle mass $\\bar{m}$, and core temperature $T_c$. Using the values of these parameters for the Sun, derive the radius of the star. Answer: $0.70r_{\\odot}$."
   ]
  },
  {
   "cell_type": "markdown",
   "metadata": {},
   "source": [
    "We have the following\n",
    "\n",
    "## $ E_{gr} = -\\frac{GM^2}{r} ; \\rho = \\frac{M}{V} ; \\bar{P} = -\\frac{1}{3}\\frac{E_{gr}}{V} ; \\bar{P} = \\frac{\\rho kT}{\\bar{m}}$\n",
    "\n",
    "Pluggin in $E_{gr}$ into the virial theorem we get\n",
    "\n",
    "## $\\bar{P} = -\\frac{1}{3}\\frac{1}{V}(-\\frac{GM^2}{r}) = \\frac{GM^2}{3Vr}$\n",
    "\n",
    "Equating this to the ideal gas law we get\n",
    "\n",
    "## $\\bar{P} = \\frac{\\rho kT}{\\bar{m}} = \\frac{Mkt}{V\\bar{m}} = \\frac{GM^2}{3Vr}$ \n",
    "\n",
    "Cancelling like terms and rearranging for r we get:\n",
    "\n",
    "## $ \\implies r_{\\odot} = \\frac{GM\\bar{m}}{3kT_c} $\n",
    "\n",
    "Taking the ratios of both stars we get\n",
    "\n",
    "## $ \\frac{r_{\\ast}}{r_{\\odot}} = (\\frac{GM\\bar{m}_{\\ast}}{3kT_{\\ast}})(\\frac{3kT_{\\ast}}{GM_{\\odot}\\bar{m}}) = \\frac{(10M_{\\odot})(\\frac{12}{7}m_H)T_{\\odot}}{M_{\\odot}(0.61m_H)T_{\\ast}} = \\frac{120}{4.27}\\frac{T_{\\odot}}{T_{\\ast}} = \\frac{120}{4.27}\\frac{1.5x10^7K}{6x10^8} = 0.70$\n",
    "\n",
    "## $\\implies r_{\\ast} = 0.70r_{\\odot} $"
   ]
  },
  {
   "cell_type": "markdown",
   "metadata": {},
   "source": [
    "c.) If the luminosity of the star is $ L = 10^7 L_{\\odot} $, what is the effective surface temperature?\n",
    "\n",
    "## $ L \\sim T^4r^2 $\n",
    "## $ T = (\\frac{L}{r^2})^{1/4} $\n",
    "## $ \\frac {T_{\\ast}}{T_{\\odot}} = (\\frac{L_{\\ast}}{r_{\\ast}^2})^{1/4} (\\frac{r_{\\odot}^2}{L_{\\odot}})^{1/4} = (\\frac{(10^7L_{\\odot})r_{\\odot}^2}{(0.70r_{\\odot})^2L_{\\odot}})^{1/4} = (\\frac{10^7}{0.49})^{1/4} = 67.2$\n",
    "## $ \\implies T_{\\ast} = 67.2T_{\\odot} = (67.2)(5800K) = 3.9 x 10^5 K$"
   ]
  },
  {
   "cell_type": "markdown",
   "metadata": {},
   "source": [
    "d.) Suppose the star produces energy via the reaction\n",
    "\n",
    "## $ C^{12} + C^{12} \\to Mg^{24} $.\n",
    "\n",
    "The atomic weight of $ C^{12} $ is 12, and that of $Mg^{24}$ is $23.985$. (The atomic weight of a nucleus is defined as the ratio of its mass to $1/12$ the mass of a $C^{12}$ nucleus.) What fraction of the star's mass can be converted into thermal energy?"
   ]
  },
  {
   "cell_type": "markdown",
   "metadata": {},
   "source": [
    "The total atomic weight before the reaction is 24 and after it is 23.985, so we are dealing with the mass difference here. Therefore:\n",
    "\n",
    "## $\\implies \\frac{24 - 23.985}{24} = \\frac{0.015}{24} = 6.3x10^{-4} $ "
   ]
  },
  {
   "cell_type": "markdown",
   "metadata": {},
   "source": [
    "e.) How much time does it take for the star to use up $10$% of its carbon? Answer: $950$ yr."
   ]
  },
  {
   "cell_type": "markdown",
   "metadata": {},
   "source": [
    "If we divide the total rest mass energy of the mass lost by the star by its luminosity, this will give us our timescale.\n",
    "\n",
    "## $ t = \\frac{\\Delta M_{\\ast}}{L_{\\ast}} = \\frac{(10M_{\\odot}c^2)(6.3x10^4)}{10^7L_{\\odot}} = \\frac{(2x10^{33}g)(3x10^{10}cms^{-1})^2(6.3x10^{-4})}{10^6(3.8x10^{33}ergs^{-1})} = 3.0x10^{10}s $\n",
    "## $ t = (\\frac{3.0x10^{10}s}{1})(\\frac{1hr}{3600s})(\\frac{1day}{24hr})(\\frac{1yr}{365days})$\n",
    "## $\\implies t = 951 years $"
   ]
  }
 ],
 "metadata": {
  "kernelspec": {
   "display_name": "Python 3",
   "language": "python",
   "name": "python3"
  },
  "language_info": {
   "codemirror_mode": {
    "name": "ipython",
    "version": 3
   },
   "file_extension": ".py",
   "mimetype": "text/x-python",
   "name": "python",
   "nbconvert_exporter": "python",
   "pygments_lexer": "ipython3",
   "version": "3.6.5"
  }
 },
 "nbformat": 4,
 "nbformat_minor": 2
}
